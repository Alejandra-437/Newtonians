{
 "cells": [
  {
   "cell_type": "markdown",
   "id": "dda9b8ee-3cf6-4433-9b8f-4d3ba0ea011d",
   "metadata": {},
   "source": [
    "# Regresión Lineal Multivariable"
   ]
  },
  {
   "cell_type": "markdown",
   "id": "74eb4f8c-dba4-48c9-9950-773001ede6a9",
   "metadata": {},
   "source": [
    "La regresión lineal múltiple es un método estadístico utilizado para predecir el resultado de una variable de respuesta mediante la combinación de numerosas variables explicativas o características. Es una variante de la regresión lineal (mínimos cuadrados ordinarios) en la que se utiliza una sola variable explicativa. \\geeks"
   ]
  },
  {
   "cell_type": "markdown",
   "id": "e2e1a336-9814-4e86-bdb9-f444e33ce027",
   "metadata": {},
   "source": [
    "La siguiente es la relación lineal entre las variables dependientes e independientes:"
   ]
  },
  {
   "cell_type": "markdown",
   "id": "aaa282c6-1a33-47a6-abe7-573cd62d605e",
   "metadata": {},
   "source": [
    "$y = \\beta_0 + \\beta_1 x_1 + \\beta_2 x_2 + \\beta_3 x_3 + \\ldots$"
   ]
  },
  {
   "cell_type": "markdown",
   "id": "312abfb9-f220-4a10-bda3-e86c3775efac",
   "metadata": {},
   "source": [
    "Donde \n",
    "* $y$ = variable dependiente u objetivo\n",
    "* $\\beta_0$ = Intercepto de la regresión lineal\n",
    "* $\\beta_1, \\beta_2, \\beta_3, \\dots, \\beta_n$ = Pendiente de la línea de regresión que indica si la línea es creciente o decreciente.\n",
    "* $X_1, X_2, X_3, \\dots, X_n$ = Variable independiente, predictora\n",
    "* $e$ = Error"
   ]
  },
  {
   "cell_type": "markdown",
   "id": "34191a60-144a-49e4-bfe9-3ee49079c1fe",
   "metadata": {},
   "source": [
    "## Aplicación del Método de Regresión Lineal"
   ]
  },
  {
   "cell_type": "markdown",
   "id": "0a720b97-69e5-42d8-8bc0-3a498d19ddb7",
   "metadata": {},
   "source": [
    "Este método será utilizado para predecir el precio de laptops en función de sus especificaciones. Los datos provienen del siguiente conjunto de datos, el cual servirá como base para entrenar el modelo y evaluar su precisión en la estimación de precios."
   ]
  },
  {
   "cell_type": "markdown",
   "id": "087ba2d9-50e1-4eb9-87b8-38084901a5aa",
   "metadata": {},
   "source": [
    "> **Fuente de los datos:**  \n",
    "> 📊 [Dataset de precios de laptops](https://ejemplo.com/dataset)  \n",
    "> Incluye 11 especificaciones: Compañía, producto (marca y modelo), tipo, tamaño de pantalla procesador, resolución de pantalla, CPU, RAM, memoria, GPU, sistema operativo y peso. "
   ]
  },
  {
   "cell_type": "markdown",
   "id": "118354df-aacf-46a6-9fd0-74509551113e",
   "metadata": {},
   "source": [
    "### Preprocesamiento de datos para: \"Laptop Price\""
   ]
  },
  {
   "cell_type": "code",
   "execution_count": null,
   "id": "d996ac67-7cd1-4d37-b2bb-903485ebc134",
   "metadata": {},
   "outputs": [
    {
     "data": {
      "text/html": [
       "<div>\n",
       "<style scoped>\n",
       "    .dataframe tbody tr th:only-of-type {\n",
       "        vertical-align: middle;\n",
       "    }\n",
       "\n",
       "    .dataframe tbody tr th {\n",
       "        vertical-align: top;\n",
       "    }\n",
       "\n",
       "    .dataframe thead th {\n",
       "        text-align: right;\n",
       "    }\n",
       "</style>\n",
       "<table border=\"1\" class=\"dataframe\">\n",
       "  <thead>\n",
       "    <tr style=\"text-align: right;\">\n",
       "      <th></th>\n",
       "      <th>laptop_ID</th>\n",
       "      <th>Company</th>\n",
       "      <th>Product</th>\n",
       "      <th>TypeName</th>\n",
       "      <th>Inches</th>\n",
       "      <th>ScreenResolution</th>\n",
       "      <th>Cpu</th>\n",
       "      <th>Ram</th>\n",
       "      <th>Memory</th>\n",
       "      <th>Gpu</th>\n",
       "      <th>OpSys</th>\n",
       "      <th>Weight</th>\n",
       "      <th>Price_euros</th>\n",
       "    </tr>\n",
       "  </thead>\n",
       "  <tbody>\n",
       "    <tr>\n",
       "      <th>0</th>\n",
       "      <td>1</td>\n",
       "      <td>Apple</td>\n",
       "      <td>MacBook Pro</td>\n",
       "      <td>Ultrabook</td>\n",
       "      <td>13.3</td>\n",
       "      <td>IPS Panel Retina Display 2560x1600</td>\n",
       "      <td>Intel Core i5 2.3GHz</td>\n",
       "      <td>8GB</td>\n",
       "      <td>128GB SSD</td>\n",
       "      <td>Intel Iris Plus Graphics 640</td>\n",
       "      <td>macOS</td>\n",
       "      <td>1.37kg</td>\n",
       "      <td>1339.69</td>\n",
       "    </tr>\n",
       "    <tr>\n",
       "      <th>1</th>\n",
       "      <td>2</td>\n",
       "      <td>Apple</td>\n",
       "      <td>Macbook Air</td>\n",
       "      <td>Ultrabook</td>\n",
       "      <td>13.3</td>\n",
       "      <td>1440x900</td>\n",
       "      <td>Intel Core i5 1.8GHz</td>\n",
       "      <td>8GB</td>\n",
       "      <td>128GB Flash Storage</td>\n",
       "      <td>Intel HD Graphics 6000</td>\n",
       "      <td>macOS</td>\n",
       "      <td>1.34kg</td>\n",
       "      <td>898.94</td>\n",
       "    </tr>\n",
       "    <tr>\n",
       "      <th>2</th>\n",
       "      <td>3</td>\n",
       "      <td>HP</td>\n",
       "      <td>250 G6</td>\n",
       "      <td>Notebook</td>\n",
       "      <td>15.6</td>\n",
       "      <td>Full HD 1920x1080</td>\n",
       "      <td>Intel Core i5 7200U 2.5GHz</td>\n",
       "      <td>8GB</td>\n",
       "      <td>256GB SSD</td>\n",
       "      <td>Intel HD Graphics 620</td>\n",
       "      <td>No OS</td>\n",
       "      <td>1.86kg</td>\n",
       "      <td>575.00</td>\n",
       "    </tr>\n",
       "    <tr>\n",
       "      <th>3</th>\n",
       "      <td>4</td>\n",
       "      <td>Apple</td>\n",
       "      <td>MacBook Pro</td>\n",
       "      <td>Ultrabook</td>\n",
       "      <td>15.4</td>\n",
       "      <td>IPS Panel Retina Display 2880x1800</td>\n",
       "      <td>Intel Core i7 2.7GHz</td>\n",
       "      <td>16GB</td>\n",
       "      <td>512GB SSD</td>\n",
       "      <td>AMD Radeon Pro 455</td>\n",
       "      <td>macOS</td>\n",
       "      <td>1.83kg</td>\n",
       "      <td>2537.45</td>\n",
       "    </tr>\n",
       "    <tr>\n",
       "      <th>4</th>\n",
       "      <td>5</td>\n",
       "      <td>Apple</td>\n",
       "      <td>MacBook Pro</td>\n",
       "      <td>Ultrabook</td>\n",
       "      <td>13.3</td>\n",
       "      <td>IPS Panel Retina Display 2560x1600</td>\n",
       "      <td>Intel Core i5 3.1GHz</td>\n",
       "      <td>8GB</td>\n",
       "      <td>256GB SSD</td>\n",
       "      <td>Intel Iris Plus Graphics 650</td>\n",
       "      <td>macOS</td>\n",
       "      <td>1.37kg</td>\n",
       "      <td>1803.60</td>\n",
       "    </tr>\n",
       "    <tr>\n",
       "      <th>...</th>\n",
       "      <td>...</td>\n",
       "      <td>...</td>\n",
       "      <td>...</td>\n",
       "      <td>...</td>\n",
       "      <td>...</td>\n",
       "      <td>...</td>\n",
       "      <td>...</td>\n",
       "      <td>...</td>\n",
       "      <td>...</td>\n",
       "      <td>...</td>\n",
       "      <td>...</td>\n",
       "      <td>...</td>\n",
       "      <td>...</td>\n",
       "    </tr>\n",
       "    <tr>\n",
       "      <th>1298</th>\n",
       "      <td>1316</td>\n",
       "      <td>Lenovo</td>\n",
       "      <td>Yoga 500-14ISK</td>\n",
       "      <td>2 in 1 Convertible</td>\n",
       "      <td>14.0</td>\n",
       "      <td>IPS Panel Full HD / Touchscreen 1920x1080</td>\n",
       "      <td>Intel Core i7 6500U 2.5GHz</td>\n",
       "      <td>4GB</td>\n",
       "      <td>128GB SSD</td>\n",
       "      <td>Intel HD Graphics 520</td>\n",
       "      <td>Windows 10</td>\n",
       "      <td>1.8kg</td>\n",
       "      <td>638.00</td>\n",
       "    </tr>\n",
       "    <tr>\n",
       "      <th>1299</th>\n",
       "      <td>1317</td>\n",
       "      <td>Lenovo</td>\n",
       "      <td>Yoga 900-13ISK</td>\n",
       "      <td>2 in 1 Convertible</td>\n",
       "      <td>13.3</td>\n",
       "      <td>IPS Panel Quad HD+ / Touchscreen 3200x1800</td>\n",
       "      <td>Intel Core i7 6500U 2.5GHz</td>\n",
       "      <td>16GB</td>\n",
       "      <td>512GB SSD</td>\n",
       "      <td>Intel HD Graphics 520</td>\n",
       "      <td>Windows 10</td>\n",
       "      <td>1.3kg</td>\n",
       "      <td>1499.00</td>\n",
       "    </tr>\n",
       "    <tr>\n",
       "      <th>1300</th>\n",
       "      <td>1318</td>\n",
       "      <td>Lenovo</td>\n",
       "      <td>IdeaPad 100S-14IBR</td>\n",
       "      <td>Notebook</td>\n",
       "      <td>14.0</td>\n",
       "      <td>1366x768</td>\n",
       "      <td>Intel Celeron Dual Core N3050 1.6GHz</td>\n",
       "      <td>2GB</td>\n",
       "      <td>64GB Flash Storage</td>\n",
       "      <td>Intel HD Graphics</td>\n",
       "      <td>Windows 10</td>\n",
       "      <td>1.5kg</td>\n",
       "      <td>229.00</td>\n",
       "    </tr>\n",
       "    <tr>\n",
       "      <th>1301</th>\n",
       "      <td>1319</td>\n",
       "      <td>HP</td>\n",
       "      <td>15-AC110nv (i7-6500U/6GB/1TB/Radeon</td>\n",
       "      <td>Notebook</td>\n",
       "      <td>15.6</td>\n",
       "      <td>1366x768</td>\n",
       "      <td>Intel Core i7 6500U 2.5GHz</td>\n",
       "      <td>6GB</td>\n",
       "      <td>1TB HDD</td>\n",
       "      <td>AMD Radeon R5 M330</td>\n",
       "      <td>Windows 10</td>\n",
       "      <td>2.19kg</td>\n",
       "      <td>764.00</td>\n",
       "    </tr>\n",
       "    <tr>\n",
       "      <th>1302</th>\n",
       "      <td>1320</td>\n",
       "      <td>Asus</td>\n",
       "      <td>X553SA-XX031T (N3050/4GB/500GB/W10)</td>\n",
       "      <td>Notebook</td>\n",
       "      <td>15.6</td>\n",
       "      <td>1366x768</td>\n",
       "      <td>Intel Celeron Dual Core N3050 1.6GHz</td>\n",
       "      <td>4GB</td>\n",
       "      <td>500GB HDD</td>\n",
       "      <td>Intel HD Graphics</td>\n",
       "      <td>Windows 10</td>\n",
       "      <td>2.2kg</td>\n",
       "      <td>369.00</td>\n",
       "    </tr>\n",
       "  </tbody>\n",
       "</table>\n",
       "<p>1303 rows × 13 columns</p>\n",
       "</div>"
      ],
      "text/plain": [
       "      laptop_ID Company                              Product  \\\n",
       "0             1   Apple                          MacBook Pro   \n",
       "1             2   Apple                          Macbook Air   \n",
       "2             3      HP                               250 G6   \n",
       "3             4   Apple                          MacBook Pro   \n",
       "4             5   Apple                          MacBook Pro   \n",
       "...         ...     ...                                  ...   \n",
       "1298       1316  Lenovo                       Yoga 500-14ISK   \n",
       "1299       1317  Lenovo                       Yoga 900-13ISK   \n",
       "1300       1318  Lenovo                   IdeaPad 100S-14IBR   \n",
       "1301       1319      HP  15-AC110nv (i7-6500U/6GB/1TB/Radeon   \n",
       "1302       1320    Asus  X553SA-XX031T (N3050/4GB/500GB/W10)   \n",
       "\n",
       "                TypeName  Inches                            ScreenResolution  \\\n",
       "0              Ultrabook    13.3          IPS Panel Retina Display 2560x1600   \n",
       "1              Ultrabook    13.3                                    1440x900   \n",
       "2               Notebook    15.6                           Full HD 1920x1080   \n",
       "3              Ultrabook    15.4          IPS Panel Retina Display 2880x1800   \n",
       "4              Ultrabook    13.3          IPS Panel Retina Display 2560x1600   \n",
       "...                  ...     ...                                         ...   \n",
       "1298  2 in 1 Convertible    14.0   IPS Panel Full HD / Touchscreen 1920x1080   \n",
       "1299  2 in 1 Convertible    13.3  IPS Panel Quad HD+ / Touchscreen 3200x1800   \n",
       "1300            Notebook    14.0                                    1366x768   \n",
       "1301            Notebook    15.6                                    1366x768   \n",
       "1302            Notebook    15.6                                    1366x768   \n",
       "\n",
       "                                       Cpu   Ram               Memory  \\\n",
       "0                     Intel Core i5 2.3GHz   8GB            128GB SSD   \n",
       "1                     Intel Core i5 1.8GHz   8GB  128GB Flash Storage   \n",
       "2               Intel Core i5 7200U 2.5GHz   8GB            256GB SSD   \n",
       "3                     Intel Core i7 2.7GHz  16GB            512GB SSD   \n",
       "4                     Intel Core i5 3.1GHz   8GB            256GB SSD   \n",
       "...                                    ...   ...                  ...   \n",
       "1298            Intel Core i7 6500U 2.5GHz   4GB            128GB SSD   \n",
       "1299            Intel Core i7 6500U 2.5GHz  16GB            512GB SSD   \n",
       "1300  Intel Celeron Dual Core N3050 1.6GHz   2GB   64GB Flash Storage   \n",
       "1301            Intel Core i7 6500U 2.5GHz   6GB              1TB HDD   \n",
       "1302  Intel Celeron Dual Core N3050 1.6GHz   4GB            500GB HDD   \n",
       "\n",
       "                               Gpu       OpSys  Weight  Price_euros  \n",
       "0     Intel Iris Plus Graphics 640       macOS  1.37kg      1339.69  \n",
       "1           Intel HD Graphics 6000       macOS  1.34kg       898.94  \n",
       "2            Intel HD Graphics 620       No OS  1.86kg       575.00  \n",
       "3               AMD Radeon Pro 455       macOS  1.83kg      2537.45  \n",
       "4     Intel Iris Plus Graphics 650       macOS  1.37kg      1803.60  \n",
       "...                            ...         ...     ...          ...  \n",
       "1298         Intel HD Graphics 520  Windows 10   1.8kg       638.00  \n",
       "1299         Intel HD Graphics 520  Windows 10   1.3kg      1499.00  \n",
       "1300             Intel HD Graphics  Windows 10   1.5kg       229.00  \n",
       "1301            AMD Radeon R5 M330  Windows 10  2.19kg       764.00  \n",
       "1302             Intel HD Graphics  Windows 10   2.2kg       369.00  \n",
       "\n",
       "[1303 rows x 13 columns]"
      ]
     },
     "execution_count": 1,
     "metadata": {},
     "output_type": "execute_result"
    }
   ],
   "source": [
    "#Importando librerías, numpy para cálculos matemáticos, matplotlib.pyplot para gráficas, pandas para poder leer y manipular el archivo con los datos y sklearn para poder hacer el Label Encoding.\n",
    "import numpy as np\n",
    "import matplotlib.pyplot as plt\n",
    "import pandas as pd\n",
    "import seaborn as sns\n",
    "from sklearn import preprocessing\n",
    "pd.options.mode.chained_assignment = None\n",
    "\n",
    "#Leyendo los datos\n",
    "df = pd.read_csv('./datasources/laptops/laptop_price.csv', encoding='latin-1')\n",
    "df"
   ]
  },
  {
   "cell_type": "code",
   "execution_count": 2,
   "id": "a93795c4-6511-466f-87a5-353bb2d07798",
   "metadata": {},
   "outputs": [
    {
     "data": {
      "text/plain": [
       "(1303, 13)"
      ]
     },
     "execution_count": 2,
     "metadata": {},
     "output_type": "execute_result"
    }
   ],
   "source": [
    "#Cantidad de filas y columnas en total\n",
    "df.shape"
   ]
  },
  {
   "cell_type": "code",
   "execution_count": 3,
   "id": "2bb71984-b22f-47db-98cc-b97786fc77b3",
   "metadata": {},
   "outputs": [
    {
     "data": {
      "text/plain": [
       "np.int64(0)"
      ]
     },
     "execution_count": 3,
     "metadata": {},
     "output_type": "execute_result"
    }
   ],
   "source": [
    "df.duplicated().sum()"
   ]
  },
  {
   "cell_type": "markdown",
   "id": "281bcf5e-93f5-4c01-a605-00558e0bea25",
   "metadata": {},
   "source": [
    "Por el momento, el archivo no tiene filas duplicadas."
   ]
  },
  {
   "cell_type": "markdown",
   "id": "e77e998f-e1be-4805-b350-f47f0e144c5c",
   "metadata": {},
   "source": [
    "$ \\large \\textbf{Exploración y limpieza inicial}$ "
   ]
  },
  {
   "cell_type": "markdown",
   "id": "12d42ec3-d157-4788-994d-425a8572eee2",
   "metadata": {},
   "source": [
    "* $\\text{Analizando y convirtiendo datos:}$\n",
    "\n",
    "Verificando que no falten datos:"
   ]
  },
  {
   "cell_type": "code",
   "execution_count": 4,
   "id": "25d15223-633d-4aa1-a385-3a6ed49e695d",
   "metadata": {},
   "outputs": [
    {
     "data": {
      "text/plain": [
       "laptop_ID           0\n",
       "Company             0\n",
       "Product             0\n",
       "TypeName            0\n",
       "Inches              0\n",
       "ScreenResolution    0\n",
       "Cpu                 0\n",
       "Ram                 0\n",
       "Memory              0\n",
       "Gpu                 0\n",
       "OpSys               0\n",
       "Weight              0\n",
       "Price_euros         0\n",
       "dtype: int64"
      ]
     },
     "execution_count": 4,
     "metadata": {},
     "output_type": "execute_result"
    }
   ],
   "source": [
    "df.isnull().sum()"
   ]
  },
  {
   "cell_type": "markdown",
   "id": "c75c7629-0651-4701-af70-afffb667c5a5",
   "metadata": {},
   "source": [
    "En ninguna de las columnas hacen falta datos, por lo que no es necesario tomar otra acción."
   ]
  },
  {
   "cell_type": "markdown",
   "id": "8d928c02-829c-4517-adc8-b43720f25719",
   "metadata": {},
   "source": [
    "Identificando los tipos de datos encontrados en el archivo:"
   ]
  },
  {
   "cell_type": "code",
   "execution_count": 5,
   "id": "384fb16a-cec1-4545-a8ee-0abced25f57f",
   "metadata": {},
   "outputs": [
    {
     "data": {
      "text/plain": [
       "laptop_ID             int64\n",
       "Company              object\n",
       "Product              object\n",
       "TypeName             object\n",
       "Inches              float64\n",
       "ScreenResolution     object\n",
       "Cpu                  object\n",
       "Ram                  object\n",
       "Memory               object\n",
       "Gpu                  object\n",
       "OpSys                object\n",
       "Weight               object\n",
       "Price_euros         float64\n",
       "dtype: object"
      ]
     },
     "execution_count": 5,
     "metadata": {},
     "output_type": "execute_result"
    }
   ],
   "source": [
    "df.dtypes"
   ]
  },
  {
   "cell_type": "markdown",
   "id": "46eba9e3-9385-4fa2-adc9-17abd91829b5",
   "metadata": {},
   "source": [
    "Se eliminará la columna de \"laptop_ID\", ya que no nos aporta datos importantes para el entrenamiento del modelo."
   ]
  },
  {
   "cell_type": "code",
   "execution_count": 6,
   "id": "5b7317ff-bb78-4a78-ac83-dfebeda1d764",
   "metadata": {},
   "outputs": [],
   "source": [
    "df.drop('laptop_ID', axis=1, inplace=True)"
   ]
  },
  {
   "cell_type": "markdown",
   "id": "5e38403a-5110-4a15-ad16-b9b225668872",
   "metadata": {},
   "source": [
    "Ahora se extraeran los datos encontrados en cada una de las columnas para poder ocuparlas cómo valores numéricos, las variables completamente nominales serán tratadas más adelante."
   ]
  },
  {
   "cell_type": "markdown",
   "id": "1c36105d-823f-4c1c-a94c-89f5ac94c276",
   "metadata": {},
   "source": [
    "Para el peso se eliminará la parte de \"kg\", ya que se todos los pesos están expresados con las mismas unidades en toda la tabla, así se podrá trabajar con una variable de tipo float."
   ]
  },
  {
   "cell_type": "code",
   "execution_count": 7,
   "id": "6b69795b-0292-4cd4-9ff8-a4bc2b656807",
   "metadata": {},
   "outputs": [],
   "source": [
    "df['Weight']=df['Weight'].str.replace('kg','')\n",
    "df['Weight']=df['Weight'].astype('float64')"
   ]
  },
  {
   "cell_type": "markdown",
   "id": "508cd473-6822-41e4-97c3-48d6560c8154",
   "metadata": {},
   "source": [
    "Para la RAM, se eliminará \"GB\" de la misma forma."
   ]
  },
  {
   "cell_type": "code",
   "execution_count": 8,
   "id": "edfe7e49-5dc1-4147-88d3-c4952c18533b",
   "metadata": {},
   "outputs": [],
   "source": [
    "df['Ram']=df['Ram'].str.replace('GB','')\n",
    "df['Ram']=df['Ram'].astype('int64')"
   ]
  },
  {
   "cell_type": "markdown",
   "id": "c299ba2a-f1d5-4cef-a3ee-c65a25811097",
   "metadata": {},
   "source": [
    "Luego se convertirá el precio de euros a dólares, para poder apreciar de mejor manera los resultados:"
   ]
  },
  {
   "cell_type": "code",
   "execution_count": 9,
   "id": "509c73af-2e70-43e2-a187-af178478f134",
   "metadata": {},
   "outputs": [],
   "source": [
    "df.rename(columns={'Price_euros':'Price'}, inplace=True)\n",
    "df.loc[:, 'Price'] *=1.13"
   ]
  },
  {
   "cell_type": "markdown",
   "id": "98493179-f82c-4b14-bba0-629c432bc56d",
   "metadata": {},
   "source": [
    "* $\\textbf{Valores extremos o Outliers}$\\\n",
    "Usando los diagramas de caja:"
   ]
  },
  {
   "cell_type": "code",
   "execution_count": 10,
   "id": "532facb9-61ed-4d9f-9ac2-eea3c4386589",
   "metadata": {},
   "outputs": [
    {
     "data": {
      "image/png": "[encoded data removed]",
      "text/plain": [
       "<Figure size 640x480 with 1 Axes>"
      ]
     },
     "metadata": {},
     "output_type": "display_data"
    },
    {
     "data": {
      "image/png": "[encoded data removed]",
      "text/plain": [
       "<Figure size 640x480 with 1 Axes>"
      ]
     },
     "metadata": {},
     "output_type": "display_data"
    },
    {
     "data": {
      "image/png": "[encoded data removed]",
      "text/plain": [
       "<Figure size 640x480 with 1 Axes>"
      ]
     },
     "metadata": {},
     "output_type": "display_data"
    },
    {
     "data": {
      "image/png": "[encoded data removed]",
      "text/plain": [
       "<Figure size 640x480 with 1 Axes>"
      ]
     },
     "metadata": {},
     "output_type": "display_data"
    }
   ],
   "source": [
    "for i in df.select_dtypes(include='number').columns:\n",
    "    sns.boxplot(data=df,x=i)\n",
    "    plt.show()"
   ]
  },
  {
   "cell_type": "markdown",
   "id": "c4968b5b-1430-4002-99d5-18e30c56a04c",
   "metadata": {},
   "source": [
    "No se graficarán las demás variables en este momento debido a que son nominales y serán tratadas luego."
   ]
  },
  {
   "cell_type": "markdown",
   "id": "4f46eda2-ae98-4eec-9dd9-67dfc4cf6d93",
   "metadata": {},
   "source": [
    "* $\\textbf{Duplicados:}$\\\n",
    "Identificando valores duplicados:"
   ]
  },
  {
   "cell_type": "code",
   "execution_count": 11,
   "id": "81530461-3d82-4446-84c6-a248f67d769d",
   "metadata": {},
   "outputs": [
    {
     "data": {
      "text/plain": [
       "np.int64(28)"
      ]
     },
     "execution_count": 11,
     "metadata": {},
     "output_type": "execute_result"
    }
   ],
   "source": [
    "df.duplicated().sum()"
   ]
  },
  {
   "cell_type": "markdown",
   "id": "095b89af-04ea-4b0e-bbe9-6046ca699197",
   "metadata": {},
   "source": [
    "Originalmente, como contabamos con la columna de \"laptop_ID\", no se marcaba ningún duplicado, pero al quitar esta salen 28 filas duplicadas, lo cual significa que si habían valores duplicados, los cuales solo tenían de diferencia la ID asignada, debido a esto es necesario ocupar la función drop_duplicates() de la librería Pandas."
   ]
  },
  {
   "cell_type": "code",
   "execution_count": 12,
   "id": "c8af58ca-508b-48d3-9245-ecedbe958e29",
   "metadata": {},
   "outputs": [],
   "source": [
    "df=df.drop_duplicates()"
   ]
  },
  {
   "cell_type": "markdown",
   "id": "9b2d733e-58c9-410a-90b3-fde1d9276853",
   "metadata": {},
   "source": [
    "Comprobando que no queden duplicados:"
   ]
  },
  {
   "cell_type": "code",
   "execution_count": 13,
   "id": "39574855-ae63-4aee-8f08-5cc8829153ce",
   "metadata": {},
   "outputs": [
    {
     "data": {
      "text/plain": [
       "np.int64(0)"
      ]
     },
     "execution_count": 13,
     "metadata": {},
     "output_type": "execute_result"
    }
   ],
   "source": [
    "df.duplicated().sum()"
   ]
  },
  {
   "cell_type": "markdown",
   "id": "9d6f56bf-826e-40e8-8345-37881aba013b",
   "metadata": {},
   "source": [
    "* $\\textbf{Visualización:}$\\\n",
    "Hasta el momento solo se han obtenido 4 variables numéricas, por lo que si se utiliza una matriz de correlación se obtiene el siguiente resultado:"
   ]
  },
  {
   "cell_type": "code",
   "execution_count": 14,
   "id": "c7949517-913f-4f2f-aa59-91545d86cde7",
   "metadata": {},
   "outputs": [
    {
     "data": {
      "image/png": "[encoded data removed]",
      "text/plain": [
       "<Figure size 600x500 with 2 Axes>"
      ]
     },
     "metadata": {},
     "output_type": "display_data"
    }
   ],
   "source": [
    "plt.figure(figsize=(6,5))\n",
    "sns.heatmap(df.select_dtypes(include=[np.number]).corr(), cmap='coolwarm', annot=True)\n",
    "plt.title('Matriz de correlacion')\n",
    "plt.show()"
   ]
  },
  {
   "cell_type": "markdown",
   "id": "0dee4c42-6136-4577-914b-7cb22dceca22",
   "metadata": {},
   "source": [
    "Luego se observará esta matriz con los datos faltantes."
   ]
  },
  {
   "cell_type": "markdown",
   "id": "12b5f485-a89f-4f45-8c67-371c68970e21",
   "metadata": {},
   "source": [
    "$ \\large \\textbf{Manejo de variables categóricas (Encoding)}$ "
   ]
  },
  {
   "cell_type": "markdown",
   "id": "f8d24bfd-44b0-4981-aa36-188e8e50b565",
   "metadata": {},
   "source": [
    "* $\\textbf{One-Hot Encoding:}$\\\n",
    "Primero se intentará ocupar la función pandas.get_dummies() para poder clasificar variables nominales usando el One-Hot Encoding, siendo estas: \"Company\", \"Product\", \"TypeName\", \"ScreenResolution\", \"Cpu\", \"Memory\", \"Gpu\" y \"OpSys\"."
   ]
  },
  {
   "cell_type": "code",
   "execution_count": 15,
   "id": "4ccd10d4-c276-48d2-818e-1a75d1b01f29",
   "metadata": {},
   "outputs": [
    {
     "data": {
      "text/html": [
       "<div>\n",
       "<style scoped>\n",
       "    .dataframe tbody tr th:only-of-type {\n",
       "        vertical-align: middle;\n",
       "    }\n",
       "\n",
       "    .dataframe tbody tr th {\n",
       "        vertical-align: top;\n",
       "    }\n",
       "\n",
       "    .dataframe thead th {\n",
       "        text-align: right;\n",
       "    }\n",
       "</style>\n",
       "<table border=\"1\" class=\"dataframe\">\n",
       "  <thead>\n",
       "    <tr style=\"text-align: right;\">\n",
       "      <th></th>\n",
       "      <th>Inches</th>\n",
       "      <th>Ram</th>\n",
       "      <th>Weight</th>\n",
       "      <th>Price</th>\n",
       "      <th>Company_Acer</th>\n",
       "      <th>Company_Apple</th>\n",
       "      <th>Company_Asus</th>\n",
       "      <th>Company_Chuwi</th>\n",
       "      <th>Company_Dell</th>\n",
       "      <th>Company_Fujitsu</th>\n",
       "      <th>...</th>\n",
       "      <th>Gpu_Nvidia Quadro M620M</th>\n",
       "      <th>OpSys_Android</th>\n",
       "      <th>OpSys_Chrome OS</th>\n",
       "      <th>OpSys_Linux</th>\n",
       "      <th>OpSys_Mac OS X</th>\n",
       "      <th>OpSys_No OS</th>\n",
       "      <th>OpSys_Windows 10</th>\n",
       "      <th>OpSys_Windows 10 S</th>\n",
       "      <th>OpSys_Windows 7</th>\n",
       "      <th>OpSys_macOS</th>\n",
       "    </tr>\n",
       "  </thead>\n",
       "  <tbody>\n",
       "    <tr>\n",
       "      <th>0</th>\n",
       "      <td>13.3</td>\n",
       "      <td>8</td>\n",
       "      <td>1.37</td>\n",
       "      <td>1513.8497</td>\n",
       "      <td>False</td>\n",
       "      <td>True</td>\n",
       "      <td>False</td>\n",
       "      <td>False</td>\n",
       "      <td>False</td>\n",
       "      <td>False</td>\n",
       "      <td>...</td>\n",
       "      <td>False</td>\n",
       "      <td>False</td>\n",
       "      <td>False</td>\n",
       "      <td>False</td>\n",
       "      <td>False</td>\n",
       "      <td>False</td>\n",
       "      <td>False</td>\n",
       "      <td>False</td>\n",
       "      <td>False</td>\n",
       "      <td>True</td>\n",
       "    </tr>\n",
       "    <tr>\n",
       "      <th>1</th>\n",
       "      <td>13.3</td>\n",
       "      <td>8</td>\n",
       "      <td>1.34</td>\n",
       "      <td>1015.8022</td>\n",
       "      <td>False</td>\n",
       "      <td>True</td>\n",
       "      <td>False</td>\n",
       "      <td>False</td>\n",
       "      <td>False</td>\n",
       "      <td>False</td>\n",
       "      <td>...</td>\n",
       "      <td>False</td>\n",
       "      <td>False</td>\n",
       "      <td>False</td>\n",
       "      <td>False</td>\n",
       "      <td>False</td>\n",
       "      <td>False</td>\n",
       "      <td>False</td>\n",
       "      <td>False</td>\n",
       "      <td>False</td>\n",
       "      <td>True</td>\n",
       "    </tr>\n",
       "    <tr>\n",
       "      <th>2</th>\n",
       "      <td>15.6</td>\n",
       "      <td>8</td>\n",
       "      <td>1.86</td>\n",
       "      <td>649.7500</td>\n",
       "      <td>False</td>\n",
       "      <td>False</td>\n",
       "      <td>False</td>\n",
       "      <td>False</td>\n",
       "      <td>False</td>\n",
       "      <td>False</td>\n",
       "      <td>...</td>\n",
       "      <td>False</td>\n",
       "      <td>False</td>\n",
       "      <td>False</td>\n",
       "      <td>False</td>\n",
       "      <td>False</td>\n",
       "      <td>True</td>\n",
       "      <td>False</td>\n",
       "      <td>False</td>\n",
       "      <td>False</td>\n",
       "      <td>False</td>\n",
       "    </tr>\n",
       "    <tr>\n",
       "      <th>3</th>\n",
       "      <td>15.4</td>\n",
       "      <td>16</td>\n",
       "      <td>1.83</td>\n",
       "      <td>2867.3185</td>\n",
       "      <td>False</td>\n",
       "      <td>True</td>\n",
       "      <td>False</td>\n",
       "      <td>False</td>\n",
       "      <td>False</td>\n",
       "      <td>False</td>\n",
       "      <td>...</td>\n",
       "      <td>False</td>\n",
       "      <td>False</td>\n",
       "      <td>False</td>\n",
       "      <td>False</td>\n",
       "      <td>False</td>\n",
       "      <td>False</td>\n",
       "      <td>False</td>\n",
       "      <td>False</td>\n",
       "      <td>False</td>\n",
       "      <td>True</td>\n",
       "    </tr>\n",
       "    <tr>\n",
       "      <th>4</th>\n",
       "      <td>13.3</td>\n",
       "      <td>8</td>\n",
       "      <td>1.37</td>\n",
       "      <td>2038.0680</td>\n",
       "      <td>False</td>\n",
       "      <td>True</td>\n",
       "      <td>False</td>\n",
       "      <td>False</td>\n",
       "      <td>False</td>\n",
       "      <td>False</td>\n",
       "      <td>...</td>\n",
       "      <td>False</td>\n",
       "      <td>False</td>\n",
       "      <td>False</td>\n",
       "      <td>False</td>\n",
       "      <td>False</td>\n",
       "      <td>False</td>\n",
       "      <td>False</td>\n",
       "      <td>False</td>\n",
       "      <td>False</td>\n",
       "      <td>True</td>\n",
       "    </tr>\n",
       "    <tr>\n",
       "      <th>...</th>\n",
       "      <td>...</td>\n",
       "      <td>...</td>\n",
       "      <td>...</td>\n",
       "      <td>...</td>\n",
       "      <td>...</td>\n",
       "      <td>...</td>\n",
       "      <td>...</td>\n",
       "      <td>...</td>\n",
       "      <td>...</td>\n",
       "      <td>...</td>\n",
       "      <td>...</td>\n",
       "      <td>...</td>\n",
       "      <td>...</td>\n",
       "      <td>...</td>\n",
       "      <td>...</td>\n",
       "      <td>...</td>\n",
       "      <td>...</td>\n",
       "      <td>...</td>\n",
       "      <td>...</td>\n",
       "      <td>...</td>\n",
       "      <td>...</td>\n",
       "    </tr>\n",
       "    <tr>\n",
       "      <th>1270</th>\n",
       "      <td>14.0</td>\n",
       "      <td>4</td>\n",
       "      <td>1.80</td>\n",
       "      <td>720.9400</td>\n",
       "      <td>False</td>\n",
       "      <td>False</td>\n",
       "      <td>False</td>\n",
       "      <td>False</td>\n",
       "      <td>False</td>\n",
       "      <td>False</td>\n",
       "      <td>...</td>\n",
       "      <td>False</td>\n",
       "      <td>False</td>\n",
       "      <td>False</td>\n",
       "      <td>False</td>\n",
       "      <td>False</td>\n",
       "      <td>False</td>\n",
       "      <td>True</td>\n",
       "      <td>False</td>\n",
       "      <td>False</td>\n",
       "      <td>False</td>\n",
       "    </tr>\n",
       "    <tr>\n",
       "      <th>1271</th>\n",
       "      <td>13.3</td>\n",
       "      <td>16</td>\n",
       "      <td>1.30</td>\n",
       "      <td>1693.8700</td>\n",
       "      <td>False</td>\n",
       "      <td>False</td>\n",
       "      <td>False</td>\n",
       "      <td>False</td>\n",
       "      <td>False</td>\n",
       "      <td>False</td>\n",
       "      <td>...</td>\n",
       "      <td>False</td>\n",
       "      <td>False</td>\n",
       "      <td>False</td>\n",
       "      <td>False</td>\n",
       "      <td>False</td>\n",
       "      <td>False</td>\n",
       "      <td>True</td>\n",
       "      <td>False</td>\n",
       "      <td>False</td>\n",
       "      <td>False</td>\n",
       "    </tr>\n",
       "    <tr>\n",
       "      <th>1272</th>\n",
       "      <td>14.0</td>\n",
       "      <td>2</td>\n",
       "      <td>1.50</td>\n",
       "      <td>258.7700</td>\n",
       "      <td>False</td>\n",
       "      <td>False</td>\n",
       "      <td>False</td>\n",
       "      <td>False</td>\n",
       "      <td>False</td>\n",
       "      <td>False</td>\n",
       "      <td>...</td>\n",
       "      <td>False</td>\n",
       "      <td>False</td>\n",
       "      <td>False</td>\n",
       "      <td>False</td>\n",
       "      <td>False</td>\n",
       "      <td>False</td>\n",
       "      <td>True</td>\n",
       "      <td>False</td>\n",
       "      <td>False</td>\n",
       "      <td>False</td>\n",
       "    </tr>\n",
       "    <tr>\n",
       "      <th>1273</th>\n",
       "      <td>15.6</td>\n",
       "      <td>6</td>\n",
       "      <td>2.19</td>\n",
       "      <td>863.3200</td>\n",
       "      <td>False</td>\n",
       "      <td>False</td>\n",
       "      <td>False</td>\n",
       "      <td>False</td>\n",
       "      <td>False</td>\n",
       "      <td>False</td>\n",
       "      <td>...</td>\n",
       "      <td>False</td>\n",
       "      <td>False</td>\n",
       "      <td>False</td>\n",
       "      <td>False</td>\n",
       "      <td>False</td>\n",
       "      <td>False</td>\n",
       "      <td>True</td>\n",
       "      <td>False</td>\n",
       "      <td>False</td>\n",
       "      <td>False</td>\n",
       "    </tr>\n",
       "    <tr>\n",
       "      <th>1274</th>\n",
       "      <td>15.6</td>\n",
       "      <td>4</td>\n",
       "      <td>2.20</td>\n",
       "      <td>416.9700</td>\n",
       "      <td>False</td>\n",
       "      <td>False</td>\n",
       "      <td>True</td>\n",
       "      <td>False</td>\n",
       "      <td>False</td>\n",
       "      <td>False</td>\n",
       "      <td>...</td>\n",
       "      <td>False</td>\n",
       "      <td>False</td>\n",
       "      <td>False</td>\n",
       "      <td>False</td>\n",
       "      <td>False</td>\n",
       "      <td>False</td>\n",
       "      <td>True</td>\n",
       "      <td>False</td>\n",
       "      <td>False</td>\n",
       "      <td>False</td>\n",
       "    </tr>\n",
       "  </tbody>\n",
       "</table>\n",
       "<p>1275 rows × 963 columns</p>\n",
       "</div>"
      ],
      "text/plain": [
       "      Inches  Ram  Weight      Price  Company_Acer  Company_Apple  \\\n",
       "0       13.3    8    1.37  1513.8497         False           True   \n",
       "1       13.3    8    1.34  1015.8022         False           True   \n",
       "2       15.6    8    1.86   649.7500         False          False   \n",
       "3       15.4   16    1.83  2867.3185         False           True   \n",
       "4       13.3    8    1.37  2038.0680         False           True   \n",
       "...      ...  ...     ...        ...           ...            ...   \n",
       "1270    14.0    4    1.80   720.9400         False          False   \n",
       "1271    13.3   16    1.30  1693.8700         False          False   \n",
       "1272    14.0    2    1.50   258.7700         False          False   \n",
       "1273    15.6    6    2.19   863.3200         False          False   \n",
       "1274    15.6    4    2.20   416.9700         False          False   \n",
       "\n",
       "      Company_Asus  Company_Chuwi  Company_Dell  Company_Fujitsu  ...  \\\n",
       "0            False          False         False            False  ...   \n",
       "1            False          False         False            False  ...   \n",
       "2            False          False         False            False  ...   \n",
       "3            False          False         False            False  ...   \n",
       "4            False          False         False            False  ...   \n",
       "...            ...            ...           ...              ...  ...   \n",
       "1270         False          False         False            False  ...   \n",
       "1271         False          False         False            False  ...   \n",
       "1272         False          False         False            False  ...   \n",
       "1273         False          False         False            False  ...   \n",
       "1274          True          False         False            False  ...   \n",
       "\n",
       "      Gpu_Nvidia Quadro M620M  OpSys_Android  OpSys_Chrome OS  OpSys_Linux  \\\n",
       "0                       False          False            False        False   \n",
       "1                       False          False            False        False   \n",
       "2                       False          False            False        False   \n",
       "3                       False          False            False        False   \n",
       "4                       False          False            False        False   \n",
       "...                       ...            ...              ...          ...   \n",
       "1270                    False          False            False        False   \n",
       "1271                    False          False            False        False   \n",
       "1272                    False          False            False        False   \n",
       "1273                    False          False            False        False   \n",
       "1274                    False          False            False        False   \n",
       "\n",
       "      OpSys_Mac OS X  OpSys_No OS  OpSys_Windows 10  OpSys_Windows 10 S  \\\n",
       "0              False        False             False               False   \n",
       "1              False        False             False               False   \n",
       "2              False         True             False               False   \n",
       "3              False        False             False               False   \n",
       "4              False        False             False               False   \n",
       "...              ...          ...               ...                 ...   \n",
       "1270           False        False              True               False   \n",
       "1271           False        False              True               False   \n",
       "1272           False        False              True               False   \n",
       "1273           False        False              True               False   \n",
       "1274           False        False              True               False   \n",
       "\n",
       "      OpSys_Windows 7  OpSys_macOS  \n",
       "0               False         True  \n",
       "1               False         True  \n",
       "2               False        False  \n",
       "3               False         True  \n",
       "4               False         True  \n",
       "...               ...          ...  \n",
       "1270            False        False  \n",
       "1271            False        False  \n",
       "1272            False        False  \n",
       "1273            False        False  \n",
       "1274            False        False  \n",
       "\n",
       "[1275 rows x 963 columns]"
      ]
     },
     "execution_count": 15,
     "metadata": {},
     "output_type": "execute_result"
    }
   ],
   "source": [
    "pd.get_dummies(df)"
   ]
  },
  {
   "cell_type": "markdown",
   "id": "6e8916b3-c98e-4bfa-83d9-6c98462b4d6a",
   "metadata": {},
   "source": [
    "Como se puede observar, esta función crea demasiadas columnas, por lo que se trabajará con otro método más compacto."
   ]
  },
  {
   "cell_type": "markdown",
   "id": "2796fe31-a7a0-45fe-a91e-d96d9c660e19",
   "metadata": {},
   "source": [
    "* $\\textbf{Label/Ordinal Encoding:}$\\\n",
    "Se ocupará este tipo de Encoding debido a que le asigna un valor a cada categoría de una columna, obteniendo así valores numéricos que podrán ser ocupados luego."
   ]
  },
  {
   "cell_type": "markdown",
   "id": "8472992a-ff0e-48d5-b72f-ec35c596c981",
   "metadata": {},
   "source": [
    "Aunque, antes de realizar este proceso se van a separar los campos de ciertas variables, empezando por la CPU, para así poder tener una variable correspondiente a la compañia junto al modelo de la \"Cpu\" y otra para la rapidez de esta, es decir los GHz."
   ]
  },
  {
   "cell_type": "code",
   "execution_count": 16,
   "id": "b6ad4203-795a-460f-a06b-2220fa50444e",
   "metadata": {},
   "outputs": [],
   "source": [
    "#Para la frecuencia\n",
    "def split_str(x):\n",
    "    x = x.split(' ')\n",
    "    return x[-1] \n",
    "\n",
    "df.loc[:,'CpuFrequency'] = df['Cpu'].apply(split_str)\n",
    "df['CpuFrequency'] = df['CpuFrequency'].str.replace('GHz', '')\n",
    "df['CpuFrequency'] = df['CpuFrequency'].astype('float64')\n",
    "\n",
    "#Quitando la frecuencia para el modelo de la CPU\n",
    "df['Cpu']= df['Cpu'].str.replace(r'(\\d+(?:\\.\\d+)?GHz)', '', regex=True)\n",
    "df.loc[:,'CpuModel']= df['Cpu']\n",
    "\n",
    "#Eliminando la columna original\n",
    "df.drop('Cpu', axis=1, inplace=True)"
   ]
  },
  {
   "cell_type": "markdown",
   "id": "d3942896-97e3-44e4-b1b5-668a2392a270",
   "metadata": {},
   "source": [
    "Ahora para la GPU:"
   ]
  },
  {
   "cell_type": "code",
   "execution_count": 17,
   "id": "d9713f69-3077-4876-be31-9494f1677551",
   "metadata": {},
   "outputs": [],
   "source": [
    "#Para conseguir la marca\n",
    "def split_str(x):\n",
    "    x = x.split(' ')\n",
    "    return x[0]\n",
    "\n",
    "df.loc[:,'GpuBrand'] = df['Gpu'].apply(lambda x : split_str(x))\n",
    "\n",
    "#Para conseguir el modelo\n",
    "def split_model(x):\n",
    "    x = x.split(' ')\n",
    "    if len(x)==2:\n",
    "        model = x[-1]\n",
    "    elif len(x) == 3:\n",
    "        model = x[-2:]  \n",
    "    elif len(x) == 4:\n",
    "        model = x[-3:]  \n",
    "    elif len(x) == 5:\n",
    "        model = x[-3:]  \n",
    "    return ' '.join(model)\n",
    "\n",
    "df.loc[:,'GpuModel'] = df['Gpu'].apply(split_model)\n",
    "\n",
    "#Eliminando la columna original\n",
    "df.drop('Gpu', axis=1, inplace=True)"
   ]
  },
  {
   "cell_type": "markdown",
   "id": "db2521c2-4cd4-40d6-ba8f-d7d34c2fe8a2",
   "metadata": {},
   "source": [
    "Luego para la columna \"Memory\":"
   ]
  },
  {
   "cell_type": "code",
   "execution_count": 18,
   "id": "30f293cc-ed28-4c60-a480-8b1ea054aa16",
   "metadata": {},
   "outputs": [
    {
     "data": {
      "text/plain": [
       "Memory\n",
       "256GB SSD                        412\n",
       "1TB HDD                          215\n",
       "500GB HDD                        124\n",
       "512GB SSD                        114\n",
       "128GB SSD +  1TB HDD              94\n",
       "128GB SSD                         74\n",
       "256GB SSD +  1TB HDD              73\n",
       "32GB Flash Storage                36\n",
       "2TB HDD                           16\n",
       "512GB SSD +  1TB HDD              14\n",
       "1TB SSD                           14\n",
       "64GB Flash Storage                13\n",
       "256GB SSD +  2TB HDD              10\n",
       "256GB Flash Storage                8\n",
       "1.0TB Hybrid                       7\n",
       "16GB Flash Storage                 7\n",
       "32GB SSD                           6\n",
       "180GB SSD                          5\n",
       "128GB Flash Storage                4\n",
       "16GB SSD                           3\n",
       "512GB SSD +  2TB HDD               3\n",
       "128GB SSD +  2TB HDD               2\n",
       "256GB SSD +  256GB SSD             2\n",
       "512GB Flash Storage                2\n",
       "1TB SSD +  1TB HDD                 2\n",
       "256GB SSD +  500GB HDD             2\n",
       "64GB SSD                           1\n",
       "512GB SSD +  512GB SSD             1\n",
       "64GB Flash Storage +  1TB HDD      1\n",
       "1TB HDD +  1TB HDD                 1\n",
       "512GB SSD +  256GB SSD             1\n",
       "32GB HDD                           1\n",
       "128GB HDD                          1\n",
       "240GB SSD                          1\n",
       "8GB SSD                            1\n",
       "508GB Hybrid                       1\n",
       "1.0TB HDD                          1\n",
       "512GB SSD +  1.0TB Hybrid          1\n",
       "256GB SSD +  1.0TB Hybrid          1\n",
       "Name: count, dtype: int64"
      ]
     },
     "execution_count": 18,
     "metadata": {},
     "output_type": "execute_result"
    }
   ],
   "source": [
    "df.Memory.value_counts()"
   ]
  },
  {
   "cell_type": "markdown",
   "id": "34e8c8a6-d97d-4f89-9a32-306bfb0d0234",
   "metadata": {},
   "source": [
    "Como se puede observar, hay cuatro tipos de almacenamiento, SSD, HDD, Flash Storage y Hybrid, por lo que se separarán en columnas distintas:"
   ]
  },
  {
   "cell_type": "code",
   "execution_count": 19,
   "id": "4e19c8b5-f4be-42c6-a95c-27036a5eceda",
   "metadata": {},
   "outputs": [],
   "source": [
    "df_clean = df.copy()\n",
    "\n",
    "# Inicializar columnas\n",
    "df_clean['Storage'] = 0\n",
    "df_clean['SSD'] = 0\n",
    "df_clean['HDD'] = 0\n",
    "df_clean['Flash Storage'] = 0\n",
    "df_clean['Hybrid'] = 0\n",
    "\n",
    "# Función para convertir a GB en caso de tener TB\n",
    "def parse_size(size_text):\n",
    "    size_text = size_text.replace(\" \", \"\")\n",
    "    if \"TB\" in size_text:\n",
    "        return int(float(size_text.replace(\"TB\", \"\").replace(\"GB\", \"\")) * 1000)\n",
    "    elif \"GB\" in size_text:\n",
    "        return int(float(size_text.replace(\"GB\", \"\")))\n",
    "    return 0\n",
    "\n",
    "# Procesando filas\n",
    "for i, row in df_clean.iterrows():\n",
    "    memory = row['Memory']\n",
    "    devices = memory.split('+')\n",
    "    total = ssd = hdd = flash = hybrid = 0\n",
    "\n",
    "    for device in devices:\n",
    "        device = device.strip()\n",
    "        parts = device.split()\n",
    "        if len(parts) >= 2:\n",
    "            size_text = parts[0]\n",
    "            dtype = \" \".join(parts[1:])\n",
    "            size = parse_size(size_text)\n",
    "            total += size\n",
    "            if 'SSD' in dtype:\n",
    "                ssd += size\n",
    "            elif 'HDD' in dtype:\n",
    "                hdd += size\n",
    "            elif 'Flash Storage' in dtype:\n",
    "                flash += size\n",
    "            elif 'Hybrid' in dtype:\n",
    "                hybrid += size\n",
    "\n",
    "    df_clean.at[i, 'Storage'] = total\n",
    "    df_clean.at[i, 'SSD'] = ssd\n",
    "    df_clean.at[i, 'HDD'] = hdd\n",
    "    df_clean.at[i, 'Flash Storage'] = flash\n",
    "    df_clean.at[i, 'Hybrid'] = hybrid\n",
    "\n",
    "#Borrando la columna original\n",
    "df_clean.drop('Memory', axis=1, inplace=True)\n",
    "\n",
    "#Aplicando los cambios a los datos originales\n",
    "df=df_clean"
   ]
  },
  {
   "cell_type": "markdown",
   "id": "ce696a93-2b32-48a8-9075-389b41dc8cb5",
   "metadata": {},
   "source": [
    "También se realizará este proceso para la variable \"ScreenResolution\", consiguiendo así al tipo de pantalla como la variable \"Screen\" y la propia resolución como la variable \"Resolution\"."
   ]
  },
  {
   "cell_type": "markdown",
   "id": "ce807545-c7e6-4a5b-8074-73d6253a65e5",
   "metadata": {},
   "source": [
    "Finalmente, se usará el \"Label Encoding\" para todas las variables nominales:"
   ]
  },
  {
   "cell_type": "code",
   "execution_count": 20,
   "id": "a93b0799-3dc3-4d99-beba-106631964489",
   "metadata": {},
   "outputs": [],
   "source": [
    "#Extrayendo los valores de resolución\n",
    "df.loc[:, 'Resolution'] = df['ScreenResolution'].str.extract(r'(\\d+x\\d+)')\n",
    "\n",
    "#Creando columnas para el ancho y la altura de la resolución\n",
    "df[['Width', 'Height']] = df['Resolution'].str.split('x', expand=True)\n",
    "df['Width']=df['Width'].astype('int64')\n",
    "df['Height']=df['Height'].astype('int64')\n",
    "\n",
    "#Eliminando la columna original de la resolución\n",
    "df.drop('Resolution', axis=1, inplace=True)\n",
    "\n",
    "#Extrayendo el tipo de pantalla\n",
    "df.loc[:, 'Screen'] = df['ScreenResolution'].str.replace(r'(\\d+x\\d+)','',regex=True)\n",
    "\n",
    "#Eliminando las plecas en los strings de \"Screen\" para solo tener el propio tipo de pantalla\n",
    "df['Screen'] = df['Screen'].replace(r'(/)','',regex=True)\n",
    "\n",
    "#Separando entre el propio tipo de pantalla y si esta es táctil\n",
    "df.loc[:, 'Touchscreen'] = df['Screen'].str.extract(r'(Touchscreen)')\n",
    "\n",
    "#Y eliminando el string de \"Touchscreen\" para que solo quede el propio tipo de pantalla\n",
    "df.loc[:,'Screen'] = df['Screen'].str.replace(r'(Touchscreen)','',regex=True)\n",
    "\n",
    "#Reemplazando el texto de \"Touchscreen\" con valores binarios, debido a que las únicas opciones son que la pantalla sea o no sea táctil\n",
    "with pd.option_context(\"future.no_silent_downcasting\", True):\n",
    "    df['Touchscreen'] = df['Touchscreen'].replace('Touchscreen',1).infer_objects(copy=False)\n",
    "df['Touchscreen'] = df['Touchscreen'].replace(np.nan,0)\n",
    "df['Touchscreen']=df['Touchscreen'].astype('int64')\n",
    "\n",
    "#Se elimina la columna original, ya que ahora no es necesaria\n",
    "df.drop('ScreenResolution', axis=1, inplace=True)"
   ]
  },
  {
   "cell_type": "markdown",
   "id": "ed4f9703-d568-48ce-bb87-335f33c69b69",
   "metadata": {},
   "source": [
    "Realizando el propio Encoding:"
   ]
  },
  {
   "cell_type": "code",
   "execution_count": 21,
   "id": "335d153f-6166-430f-b6eb-03c3298ef9ba",
   "metadata": {},
   "outputs": [],
   "source": [
    "df['Company']=preprocessing.LabelEncoder().fit_transform(df['Company'])\n",
    "df['Product']=preprocessing.LabelEncoder().fit_transform(df['Product'])\n",
    "df['TypeName']=preprocessing.LabelEncoder().fit_transform(df['TypeName'])\n",
    "df['Screen']=preprocessing.LabelEncoder().fit_transform(df['Screen'])\n",
    "df['CpuModel']=preprocessing.LabelEncoder().fit_transform(df['CpuModel'])\n",
    "df['GpuBrand']=preprocessing.LabelEncoder().fit_transform(df['GpuBrand'])\n",
    "df['GpuModel']=preprocessing.LabelEncoder().fit_transform(df['GpuModel'])\n",
    "df['OpSys']=preprocessing.LabelEncoder().fit_transform(df['OpSys'])"
   ]
  },
  {
   "cell_type": "code",
   "execution_count": 22,
   "id": "470030e0-0229-4916-ab95-05abbc5d511c",
   "metadata": {},
   "outputs": [],
   "source": [
    "#* $\\textbf{Target Encoding:}$\\\n",
    "#Como este método se basa en la media de la variable de predicción, en este caso \"Price\", se obtendrán mejores resultados que con el One-Hot Encoding, ya que producirá resultados numéricos que se podrán utilizar inmediatamente."
   ]
  },
  {
   "cell_type": "markdown",
   "id": "62e91531-4e28-4b18-8495-f3798dc86d43",
   "metadata": {},
   "source": [
    "Ahora nos hemos quedado con las siguientes columnas:"
   ]
  },
  {
   "cell_type": "code",
   "execution_count": 23,
   "id": "874b631b-0f05-42fc-9c3b-12b047067011",
   "metadata": {},
   "outputs": [
    {
     "data": {
      "text/plain": [
       "Company            int64\n",
       "Product            int64\n",
       "TypeName           int64\n",
       "Inches           float64\n",
       "Ram                int64\n",
       "OpSys              int64\n",
       "Weight           float64\n",
       "Price            float64\n",
       "CpuFrequency     float64\n",
       "CpuModel           int64\n",
       "GpuBrand           int64\n",
       "GpuModel           int64\n",
       "Storage            int64\n",
       "SSD                int64\n",
       "HDD                int64\n",
       "Flash Storage      int64\n",
       "Hybrid             int64\n",
       "Width              int64\n",
       "Height             int64\n",
       "Screen             int64\n",
       "Touchscreen        int64\n",
       "dtype: object"
      ]
     },
     "execution_count": 23,
     "metadata": {},
     "output_type": "execute_result"
    }
   ],
   "source": [
    "df.dtypes"
   ]
  },
  {
   "cell_type": "markdown",
   "id": "185fd35a-79e6-4002-850a-b7b3b4791088",
   "metadata": {},
   "source": [
    "Todas son númericas por lo que podemos observar nuevamente los diagramas de caja, pero ahora con todas las variables."
   ]
  },
  {
   "cell_type": "code",
   "execution_count": 24,
   "id": "a77a069e-0084-4d77-b707-9d5022f7cd70",
   "metadata": {},
   "outputs": [
    {
     "data": {
      "image/png": "[encoded data removed]",
      "text/plain": [
       "<Figure size 640x480 with 1 Axes>"
      ]
     },
     "metadata": {},
     "output_type": "display_data"
    },
    {
     "data": {
      "image/png": "[encoded data removed]",
      "text/plain": [
       "<Figure size 640x480 with 1 Axes>"
      ]
     },
     "metadata": {},
     "output_type": "display_data"
    },
    {
     "data": {
      "image/png": "[encoded data removed]",
      "text/plain": [
       "<Figure size 640x480 with 1 Axes>"
      ]
     },
     "metadata": {},
     "output_type": "display_data"
    },
    {
     "data": {
      "image/png": "[encoded data removed]",
      "text/plain": [
       "<Figure size 640x480 with 1 Axes>"
      ]
     },
     "metadata": {},
     "output_type": "display_data"
    },
    {
     "data": {
      "image/png": "[encoded data removed]",
      "text/plain": [
       "<Figure size 640x480 with 1 Axes>"
      ]
     },
     "metadata": {},
     "output_type": "display_data"
    },
    {
     "data": {
      "image/png": "[encoded data removed]",
      "text/plain": [
       "<Figure size 640x480 with 1 Axes>"
      ]
     },
     "metadata": {},
     "output_type": "display_data"
    },
    {
     "data": {
      "image/png": "[encoded data removed]",
      "text/plain": [
       "<Figure size 640x480 with 1 Axes>"
      ]
     },
     "metadata": {},
     "output_type": "display_data"
    },
    {
     "data": {
      "image/png": "[encoded data removed]",
      "text/plain": [
       "<Figure size 640x480 with 1 Axes>"
      ]
     },
     "metadata": {},
     "output_type": "display_data"
    },
    {
     "data": {
      "image/png": "[encoded data removed]",
      "text/plain": [
       "<Figure size 640x480 with 1 Axes>"
      ]
     },
     "metadata": {},
     "output_type": "display_data"
    },
    {
     "data": {
      "image/png": "[encoded data removed]",
      "text/plain": [
       "<Figure size 640x480 with 1 Axes>"
      ]
     },
     "metadata": {},
     "output_type": "display_data"
    },
    {
     "data": {
      "image/png": "[encoded data removed]",
      "text/plain": [
       "<Figure size 640x480 with 1 Axes>"
      ]
     },
     "metadata": {},
     "output_type": "display_data"
    },
    {
     "data": {
      "image/png": "[encoded data removed]",
      "text/plain": [
       "<Figure size 640x480 with 1 Axes>"
      ]
     },
     "metadata": {},
     "output_type": "display_data"
    },
    {
     "data": {
      "image/png": "[encoded data removed]",
      "text/plain": [
       "<Figure size 640x480 with 1 Axes>"
      ]
     },
     "metadata": {},
     "output_type": "display_data"
    },
    {
     "data": {
      "image/png": "[encoded data removed]",
      "text/plain": [
       "<Figure size 640x480 with 1 Axes>"
      ]
     },
     "metadata": {},
     "output_type": "display_data"
    },
    {
     "data": {
      "image/png": "[encoded data removed]",
      "text/plain": [
       "<Figure size 640x480 with 1 Axes>"
      ]
     },
     "metadata": {},
     "output_type": "display_data"
    },
    {
     "data": {
      "image/png": "[encoded data removed]",
      "text/plain": [
       "<Figure size 640x480 with 1 Axes>"
      ]
     },
     "metadata": {},
     "output_type": "display_data"
    },
    {
     "data": {
      "image/png": "[encoded data removed]",
      "text/plain": [
       "<Figure size 640x480 with 1 Axes>"
      ]
     },
     "metadata": {},
     "output_type": "display_data"
    },
    {
     "data": {
      "image/png": "[encoded data removed]",
      "text/plain": [
       "<Figure size 640x480 with 1 Axes>"
      ]
     },
     "metadata": {},
     "output_type": "display_data"
    },
    {
     "data": {
      "image/png": "[encoded data removed]",
      "text/plain": [
       "<Figure size 640x480 with 1 Axes>"
      ]
     },
     "metadata": {},
     "output_type": "display_data"
    },
    {
     "data": {
      "image/png": "[encoded data removed]",
      "text/plain": [
       "<Figure size 640x480 with 1 Axes>"
      ]
     },
     "metadata": {},
     "output_type": "display_data"
    },
    {
     "data": {
      "image/png": "[encoded data removed]",
      "text/plain": [
       "<Figure size 640x480 with 1 Axes>"
      ]
     },
     "metadata": {},
     "output_type": "display_data"
    }
   ],
   "source": [
    "for i in df.select_dtypes(include='number').columns:\n",
    "    sns.boxplot(data=df,x=i)\n",
    "    plt.show()"
   ]
  },
  {
   "cell_type": "markdown",
   "id": "e4cd4ade-0bb4-4e7e-9bc0-7dd51b1faf11",
   "metadata": {},
   "source": [
    "* $\\textbf{Normalización:}$\\\n",
    "Para poder ocupar el método del gradiente descendiente, es necesario tener variables normalizadas, se ocupará el método de \"Mín. Máx.\" debido a que hay variables con distintas escalas dentro de los datos, por ejemplo, entre el peso y la RAM, ya que el peso se encuentra entre 0.6 y 5, mientras que la RAM se encuentra entre 2 y 64, comprobando esto:"
   ]
  },
  {
   "cell_type": "code",
   "execution_count": 25,
   "id": "14995fc6-2311-4662-82fa-7d4e56574cc2",
   "metadata": {},
   "outputs": [
    {
     "data": {
      "text/plain": [
       "np.float64(0.69)"
      ]
     },
     "execution_count": 25,
     "metadata": {},
     "output_type": "execute_result"
    }
   ],
   "source": [
    "df['Weight'].min()"
   ]
  },
  {
   "cell_type": "code",
   "execution_count": 26,
   "id": "c2bb84dd-b43d-48e6-b057-a602ccb698df",
   "metadata": {},
   "outputs": [
    {
     "data": {
      "text/plain": [
       "np.float64(4.7)"
      ]
     },
     "execution_count": 26,
     "metadata": {},
     "output_type": "execute_result"
    }
   ],
   "source": [
    "df['Weight'].max()"
   ]
  },
  {
   "cell_type": "code",
   "execution_count": 27,
   "id": "f0dccfbc-b87a-45d9-81c8-8af7ba303bd4",
   "metadata": {},
   "outputs": [
    {
     "data": {
      "text/plain": [
       "np.int64(2)"
      ]
     },
     "execution_count": 27,
     "metadata": {},
     "output_type": "execute_result"
    }
   ],
   "source": [
    "df['Ram'].min()"
   ]
  },
  {
   "cell_type": "code",
   "execution_count": 28,
   "id": "080815eb-6734-4ba8-97f4-aec995397c9d",
   "metadata": {},
   "outputs": [
    {
     "data": {
      "text/plain": [
       "np.int64(64)"
      ]
     },
     "execution_count": 28,
     "metadata": {},
     "output_type": "execute_result"
    }
   ],
   "source": [
    "df['Ram'].max()"
   ]
  },
  {
   "cell_type": "markdown",
   "id": "bd74f32a-9656-4645-8042-b392f26aa790",
   "metadata": {},
   "source": [
    "Aplicando el método:"
   ]
  },
  {
   "cell_type": "code",
   "execution_count": 29,
   "id": "31f2f4ec-cca6-4524-bf42-1487fb36e3f6",
   "metadata": {},
   "outputs": [
    {
     "data": {
      "text/html": [
       "<div>\n",
       "<style scoped>\n",
       "    .dataframe tbody tr th:only-of-type {\n",
       "        vertical-align: middle;\n",
       "    }\n",
       "\n",
       "    .dataframe tbody tr th {\n",
       "        vertical-align: top;\n",
       "    }\n",
       "\n",
       "    .dataframe thead th {\n",
       "        text-align: right;\n",
       "    }\n",
       "</style>\n",
       "<table border=\"1\" class=\"dataframe\">\n",
       "  <thead>\n",
       "    <tr style=\"text-align: right;\">\n",
       "      <th></th>\n",
       "      <th>Company</th>\n",
       "      <th>Product</th>\n",
       "      <th>TypeName</th>\n",
       "      <th>Inches</th>\n",
       "      <th>Ram</th>\n",
       "      <th>OpSys</th>\n",
       "      <th>Weight</th>\n",
       "      <th>Price</th>\n",
       "      <th>CpuFrequency</th>\n",
       "      <th>CpuModel</th>\n",
       "      <th>...</th>\n",
       "      <th>GpuModel</th>\n",
       "      <th>Storage</th>\n",
       "      <th>SSD</th>\n",
       "      <th>HDD</th>\n",
       "      <th>Flash Storage</th>\n",
       "      <th>Hybrid</th>\n",
       "      <th>Width</th>\n",
       "      <th>Height</th>\n",
       "      <th>Screen</th>\n",
       "      <th>Touchscreen</th>\n",
       "    </tr>\n",
       "  </thead>\n",
       "  <tbody>\n",
       "    <tr>\n",
       "      <th>0</th>\n",
       "      <td>0.055556</td>\n",
       "      <td>0.486224</td>\n",
       "      <td>0.8</td>\n",
       "      <td>0.385542</td>\n",
       "      <td>0.096774</td>\n",
       "      <td>1.000</td>\n",
       "      <td>0.169576</td>\n",
       "      <td>0.196741</td>\n",
       "      <td>0.518519</td>\n",
       "      <td>0.554348</td>\n",
       "      <td>...</td>\n",
       "      <td>0.568807</td>\n",
       "      <td>0.047923</td>\n",
       "      <td>0.125</td>\n",
       "      <td>0.00</td>\n",
       "      <td>0.000</td>\n",
       "      <td>0.0</td>\n",
       "      <td>0.482619</td>\n",
       "      <td>0.597701</td>\n",
       "      <td>0.90</td>\n",
       "      <td>0.0</td>\n",
       "    </tr>\n",
       "    <tr>\n",
       "      <th>1</th>\n",
       "      <td>0.055556</td>\n",
       "      <td>0.487844</td>\n",
       "      <td>0.8</td>\n",
       "      <td>0.385542</td>\n",
       "      <td>0.096774</td>\n",
       "      <td>1.000</td>\n",
       "      <td>0.162095</td>\n",
       "      <td>0.122353</td>\n",
       "      <td>0.333333</td>\n",
       "      <td>0.554348</td>\n",
       "      <td>...</td>\n",
       "      <td>0.495413</td>\n",
       "      <td>0.047923</td>\n",
       "      <td>0.000</td>\n",
       "      <td>0.00</td>\n",
       "      <td>0.250</td>\n",
       "      <td>0.0</td>\n",
       "      <td>0.029911</td>\n",
       "      <td>0.094828</td>\n",
       "      <td>0.00</td>\n",
       "      <td>0.0</td>\n",
       "    </tr>\n",
       "    <tr>\n",
       "      <th>2</th>\n",
       "      <td>0.388889</td>\n",
       "      <td>0.081037</td>\n",
       "      <td>0.6</td>\n",
       "      <td>0.662651</td>\n",
       "      <td>0.096774</td>\n",
       "      <td>0.500</td>\n",
       "      <td>0.291771</td>\n",
       "      <td>0.067679</td>\n",
       "      <td>0.592593</td>\n",
       "      <td>0.619565</td>\n",
       "      <td>...</td>\n",
       "      <td>0.513761</td>\n",
       "      <td>0.099042</td>\n",
       "      <td>0.250</td>\n",
       "      <td>0.00</td>\n",
       "      <td>0.000</td>\n",
       "      <td>0.0</td>\n",
       "      <td>0.223929</td>\n",
       "      <td>0.224138</td>\n",
       "      <td>0.35</td>\n",
       "      <td>0.0</td>\n",
       "    </tr>\n",
       "    <tr>\n",
       "      <th>3</th>\n",
       "      <td>0.055556</td>\n",
       "      <td>0.486224</td>\n",
       "      <td>0.8</td>\n",
       "      <td>0.638554</td>\n",
       "      <td>0.225806</td>\n",
       "      <td>1.000</td>\n",
       "      <td>0.284289</td>\n",
       "      <td>0.398895</td>\n",
       "      <td>0.666667</td>\n",
       "      <td>0.706522</td>\n",
       "      <td>...</td>\n",
       "      <td>0.733945</td>\n",
       "      <td>0.201278</td>\n",
       "      <td>0.500</td>\n",
       "      <td>0.00</td>\n",
       "      <td>0.000</td>\n",
       "      <td>0.0</td>\n",
       "      <td>0.611964</td>\n",
       "      <td>0.741379</td>\n",
       "      <td>0.90</td>\n",
       "      <td>0.0</td>\n",
       "    </tr>\n",
       "    <tr>\n",
       "      <th>4</th>\n",
       "      <td>0.055556</td>\n",
       "      <td>0.486224</td>\n",
       "      <td>0.8</td>\n",
       "      <td>0.385542</td>\n",
       "      <td>0.096774</td>\n",
       "      <td>1.000</td>\n",
       "      <td>0.169576</td>\n",
       "      <td>0.275038</td>\n",
       "      <td>0.814815</td>\n",
       "      <td>0.554348</td>\n",
       "      <td>...</td>\n",
       "      <td>0.577982</td>\n",
       "      <td>0.099042</td>\n",
       "      <td>0.250</td>\n",
       "      <td>0.00</td>\n",
       "      <td>0.000</td>\n",
       "      <td>0.0</td>\n",
       "      <td>0.482619</td>\n",
       "      <td>0.597701</td>\n",
       "      <td>0.90</td>\n",
       "      <td>0.0</td>\n",
       "    </tr>\n",
       "    <tr>\n",
       "      <th>...</th>\n",
       "      <td>...</td>\n",
       "      <td>...</td>\n",
       "      <td>...</td>\n",
       "      <td>...</td>\n",
       "      <td>...</td>\n",
       "      <td>...</td>\n",
       "      <td>...</td>\n",
       "      <td>...</td>\n",
       "      <td>...</td>\n",
       "      <td>...</td>\n",
       "      <td>...</td>\n",
       "      <td>...</td>\n",
       "      <td>...</td>\n",
       "      <td>...</td>\n",
       "      <td>...</td>\n",
       "      <td>...</td>\n",
       "      <td>...</td>\n",
       "      <td>...</td>\n",
       "      <td>...</td>\n",
       "      <td>...</td>\n",
       "      <td>...</td>\n",
       "    </tr>\n",
       "    <tr>\n",
       "      <th>1270</th>\n",
       "      <td>0.555556</td>\n",
       "      <td>0.940032</td>\n",
       "      <td>0.0</td>\n",
       "      <td>0.469880</td>\n",
       "      <td>0.032258</td>\n",
       "      <td>0.625</td>\n",
       "      <td>0.276808</td>\n",
       "      <td>0.078312</td>\n",
       "      <td>0.592593</td>\n",
       "      <td>0.717391</td>\n",
       "      <td>...</td>\n",
       "      <td>0.458716</td>\n",
       "      <td>0.047923</td>\n",
       "      <td>0.125</td>\n",
       "      <td>0.00</td>\n",
       "      <td>0.000</td>\n",
       "      <td>0.0</td>\n",
       "      <td>0.223929</td>\n",
       "      <td>0.224138</td>\n",
       "      <td>0.75</td>\n",
       "      <td>1.0</td>\n",
       "    </tr>\n",
       "    <tr>\n",
       "      <th>1271</th>\n",
       "      <td>0.555556</td>\n",
       "      <td>0.952998</td>\n",
       "      <td>0.0</td>\n",
       "      <td>0.385542</td>\n",
       "      <td>0.225806</td>\n",
       "      <td>0.625</td>\n",
       "      <td>0.152120</td>\n",
       "      <td>0.223629</td>\n",
       "      <td>0.592593</td>\n",
       "      <td>0.717391</td>\n",
       "      <td>...</td>\n",
       "      <td>0.458716</td>\n",
       "      <td>0.201278</td>\n",
       "      <td>0.500</td>\n",
       "      <td>0.00</td>\n",
       "      <td>0.000</td>\n",
       "      <td>0.0</td>\n",
       "      <td>0.741310</td>\n",
       "      <td>0.741379</td>\n",
       "      <td>0.85</td>\n",
       "      <td>1.0</td>\n",
       "    </tr>\n",
       "    <tr>\n",
       "      <th>1272</th>\n",
       "      <td>0.555556</td>\n",
       "      <td>0.317666</td>\n",
       "      <td>0.6</td>\n",
       "      <td>0.469880</td>\n",
       "      <td>0.000000</td>\n",
       "      <td>0.625</td>\n",
       "      <td>0.201995</td>\n",
       "      <td>0.009283</td>\n",
       "      <td>0.259259</td>\n",
       "      <td>0.336957</td>\n",
       "      <td>...</td>\n",
       "      <td>0.394495</td>\n",
       "      <td>0.022364</td>\n",
       "      <td>0.000</td>\n",
       "      <td>0.00</td>\n",
       "      <td>0.125</td>\n",
       "      <td>0.0</td>\n",
       "      <td>0.000000</td>\n",
       "      <td>0.000000</td>\n",
       "      <td>0.00</td>\n",
       "      <td>0.0</td>\n",
       "    </tr>\n",
       "    <tr>\n",
       "      <th>1273</th>\n",
       "      <td>0.388889</td>\n",
       "      <td>0.003241</td>\n",
       "      <td>0.6</td>\n",
       "      <td>0.662651</td>\n",
       "      <td>0.064516</td>\n",
       "      <td>0.625</td>\n",
       "      <td>0.374065</td>\n",
       "      <td>0.099578</td>\n",
       "      <td>0.592593</td>\n",
       "      <td>0.717391</td>\n",
       "      <td>...</td>\n",
       "      <td>0.844037</td>\n",
       "      <td>0.396166</td>\n",
       "      <td>0.000</td>\n",
       "      <td>0.50</td>\n",
       "      <td>0.000</td>\n",
       "      <td>0.0</td>\n",
       "      <td>0.000000</td>\n",
       "      <td>0.000000</td>\n",
       "      <td>0.00</td>\n",
       "      <td>0.0</td>\n",
       "    </tr>\n",
       "    <tr>\n",
       "      <th>1274</th>\n",
       "      <td>0.111111</td>\n",
       "      <td>0.920583</td>\n",
       "      <td>0.6</td>\n",
       "      <td>0.662651</td>\n",
       "      <td>0.032258</td>\n",
       "      <td>0.625</td>\n",
       "      <td>0.376559</td>\n",
       "      <td>0.032911</td>\n",
       "      <td>0.259259</td>\n",
       "      <td>0.336957</td>\n",
       "      <td>...</td>\n",
       "      <td>0.394495</td>\n",
       "      <td>0.196486</td>\n",
       "      <td>0.000</td>\n",
       "      <td>0.25</td>\n",
       "      <td>0.000</td>\n",
       "      <td>0.0</td>\n",
       "      <td>0.000000</td>\n",
       "      <td>0.000000</td>\n",
       "      <td>0.00</td>\n",
       "      <td>0.0</td>\n",
       "    </tr>\n",
       "  </tbody>\n",
       "</table>\n",
       "<p>1275 rows × 21 columns</p>\n",
       "</div>"
      ],
      "text/plain": [
       "       Company   Product  TypeName    Inches       Ram  OpSys    Weight  \\\n",
       "0     0.055556  0.486224       0.8  0.385542  0.096774  1.000  0.169576   \n",
       "1     0.055556  0.487844       0.8  0.385542  0.096774  1.000  0.162095   \n",
       "2     0.388889  0.081037       0.6  0.662651  0.096774  0.500  0.291771   \n",
       "3     0.055556  0.486224       0.8  0.638554  0.225806  1.000  0.284289   \n",
       "4     0.055556  0.486224       0.8  0.385542  0.096774  1.000  0.169576   \n",
       "...        ...       ...       ...       ...       ...    ...       ...   \n",
       "1270  0.555556  0.940032       0.0  0.469880  0.032258  0.625  0.276808   \n",
       "1271  0.555556  0.952998       0.0  0.385542  0.225806  0.625  0.152120   \n",
       "1272  0.555556  0.317666       0.6  0.469880  0.000000  0.625  0.201995   \n",
       "1273  0.388889  0.003241       0.6  0.662651  0.064516  0.625  0.374065   \n",
       "1274  0.111111  0.920583       0.6  0.662651  0.032258  0.625  0.376559   \n",
       "\n",
       "         Price  CpuFrequency  CpuModel  ...  GpuModel   Storage    SSD   HDD  \\\n",
       "0     0.196741      0.518519  0.554348  ...  0.568807  0.047923  0.125  0.00   \n",
       "1     0.122353      0.333333  0.554348  ...  0.495413  0.047923  0.000  0.00   \n",
       "2     0.067679      0.592593  0.619565  ...  0.513761  0.099042  0.250  0.00   \n",
       "3     0.398895      0.666667  0.706522  ...  0.733945  0.201278  0.500  0.00   \n",
       "4     0.275038      0.814815  0.554348  ...  0.577982  0.099042  0.250  0.00   \n",
       "...        ...           ...       ...  ...       ...       ...    ...   ...   \n",
       "1270  0.078312      0.592593  0.717391  ...  0.458716  0.047923  0.125  0.00   \n",
       "1271  0.223629      0.592593  0.717391  ...  0.458716  0.201278  0.500  0.00   \n",
       "1272  0.009283      0.259259  0.336957  ...  0.394495  0.022364  0.000  0.00   \n",
       "1273  0.099578      0.592593  0.717391  ...  0.844037  0.396166  0.000  0.50   \n",
       "1274  0.032911      0.259259  0.336957  ...  0.394495  0.196486  0.000  0.25   \n",
       "\n",
       "      Flash Storage  Hybrid     Width    Height  Screen  Touchscreen  \n",
       "0             0.000     0.0  0.482619  0.597701    0.90          0.0  \n",
       "1             0.250     0.0  0.029911  0.094828    0.00          0.0  \n",
       "2             0.000     0.0  0.223929  0.224138    0.35          0.0  \n",
       "3             0.000     0.0  0.611964  0.741379    0.90          0.0  \n",
       "4             0.000     0.0  0.482619  0.597701    0.90          0.0  \n",
       "...             ...     ...       ...       ...     ...          ...  \n",
       "1270          0.000     0.0  0.223929  0.224138    0.75          1.0  \n",
       "1271          0.000     0.0  0.741310  0.741379    0.85          1.0  \n",
       "1272          0.125     0.0  0.000000  0.000000    0.00          0.0  \n",
       "1273          0.000     0.0  0.000000  0.000000    0.00          0.0  \n",
       "1274          0.000     0.0  0.000000  0.000000    0.00          0.0  \n",
       "\n",
       "[1275 rows x 21 columns]"
      ]
     },
     "execution_count": 29,
     "metadata": {},
     "output_type": "execute_result"
    }
   ],
   "source": [
    "df_n=(df-df.min())/(df.max()-df.min())\n",
    "\n",
    "#Observando como han quedado los cambios\n",
    "df_n"
   ]
  },
  {
   "cell_type": "markdown",
   "id": "1e6c1e9f-a964-4e17-8c57-ec6f3da1ced4",
   "metadata": {},
   "source": [
    "* $\\textbf{Visualización:}$\\\n",
    "Ahora que todas las variables han sido normalizadas, ya se puede observar su relación por medio de una matriz de correlación:"
   ]
  },
  {
   "cell_type": "code",
   "execution_count": 30,
   "id": "0f952c1d-3660-4030-b171-b2448344bf15",
   "metadata": {},
   "outputs": [
    {
     "data": {
      "image/png": "[encoded data removed]",
      "text/plain": [
       "<Figure size 1200x1000 with 2 Axes>"
      ]
     },
     "metadata": {},
     "output_type": "display_data"
    }
   ],
   "source": [
    "plt.figure(figsize=(12, 10))\n",
    "correlation_matrix = df_n.corr()\n",
    "mask = np.triu(correlation_matrix)\n",
    "sns.heatmap(correlation_matrix, annot=False, mask=mask, cmap='coolwarm', linewidths=0.5)\n",
    "plt.title('Matriz de Correlación')\n",
    "plt.tight_layout()\n",
    "plt.show()"
   ]
  },
  {
   "cell_type": "markdown",
   "id": "abfd9ede-b1ab-4581-b5c0-81c67a394476",
   "metadata": {},
   "source": [
    "## Implementación de modelo"
   ]
  },
  {
   "cell_type": "code",
   "execution_count": null,
   "id": "27b2b859-ffff-44de-a3ed-9a5a5f912cb3",
   "metadata": {},
   "outputs": [],
   "source": [
    "# Separar características (X) y variable objetivo (y)\n",
    "X = df_n.drop('Price', axis=1).values     # Todas las columnas excepto 'Price'\n",
    "y = df_n['Price'].values.reshape(-1, 1)   # Solo la columna 'Price'"
   ]
  },
  {
   "cell_type": "markdown",
   "id": "b35592d5-2962-49ab-97ee-2c65d675725f",
   "metadata": {},
   "source": [
    "Para incluir el término indpendiente $\\beta_0$ en las operaciones matriciales, agregamos una columna de 1's al inicio de x. "
   ]
  },
  {
   "cell_type": "code",
   "execution_count": null,
   "id": "fce23faa-7750-4741-b55e-53991d77e5dd",
   "metadata": {},
   "outputs": [],
   "source": [
    "# np.hstack() concatena horizontalmente la columna de 1's con el resto de las características\n",
    "\n",
    "# Para X (conjunto completo)\n",
    "X = np.hstack((np.ones((X.shape[0], 1)), X))  \n",
    "\n",
    "# Para X_test (conjunto de prueba)\n",
    "X_test = np.hstack((np.ones((X_test.shape[0], 1)), X_test))  "
   ]
  },
  {
   "cell_type": "markdown",
   "id": "3f9fb0e7-b98a-415c-bd81-a158bb6df621",
   "metadata": {},
   "source": [
    "### División del conjunto de datos en un conjunto de entrenamiento y uno de prueba"
   ]
  },
  {
   "cell_type": "markdown",
   "id": "2cbcf5af-e648-4c5e-ae1e-540d5c384182",
   "metadata": {},
   "source": [
    "Utilizamos una división de entrenamiento y prueba, diviendo el conjunto de datos en dos grupos. El conjunto de entrenamiento, utilizado para entrenar el modelo y el conjunto de prueba utilizado para evaluar su rendimiento. La división habitual para una cantidad de datos relativamente pequeña es de 70% - 30%.\n",
    "Esto permite que el modelo aprenda patrones a partir de los datos de entrenamiento, dado que si el modelo se entrenara con todo el conjunto de datos, podría memorizarlos en lugar de aprender patrones generalizables a partir de una estimación imparcial. \n"
   ]
  },
  {
   "cell_type": "code",
   "execution_count": null,
   "id": "0fbb0917-eca8-4c68-8026-c14bc4486dc4",
   "metadata": {},
   "outputs": [],
   "source": [
    "# Fija la \"semilla\" del generador de números aleatorios de NumPy para garantizar reproducibilidad\n",
    "np.random.seed(42)\n",
    "y = y.reshape(-1, 1)\n",
    "\n",
    "# Mezcla y división 70% de entrenamiento y 30% de prueba\n",
    "perm = np.random.permutation(len(X))\n",
    "n_train = int(len(X) * 0.7)\n",
    "\n",
    "X_train, y_train = X[perm[:n_train]], y[perm[:n_train]]\n",
    "X_test,  y_test  = X[perm[n_train:]], y[perm[n_train:]]\n",
    "\n",
    "y_test = y_test.reshape(-1, 1)"
   ]
  },
  {
   "cell_type": "code",
   "execution_count": null,
   "id": "c34f2496-9098-426f-af9c-c5b8a241d526",
   "metadata": {},
   "outputs": [],
   "source": [
    "# Verificación de dimensiones del dataset completo\n",
    "print(f\"Dimensiones de X: {X.shape}\")  # (1275, 14) → 1275 muestras, 13 features + 1 columna de bias\n",
    "print(f\"Dimensiones de y: {y.shape}\")  # (1275, 1) → 1275 precios\n",
    "\n",
    "# Verificación de dimensiones del conjunto de prueba\n",
    "print(\"X_test shape:\", X_test.shape)  # Debería ser (n_samples_test, n_features + 1)\n",
    "print(\"y_test shape:\", y_test.shape)  # Debería ser (n_samples_test, 1)"
   ]
  },
  {
   "cell_type": "markdown",
   "id": "21e1d3fc-953c-4d86-a5cb-4350418adac9",
   "metadata": {},
   "source": [
    "### Evaluación del rendimiento del modelo"
   ]
  },
  {
   "cell_type": "markdown",
   "id": "694b1236-7506-49c3-be5d-136ad798e563",
   "metadata": {},
   "source": [
    "Para evaluar el rendimiento de nuestro modelo con datos reales, calcularemos el error cuadrático medio (EMM) utilizando nuestros datos de prueba, que esperamos sean un buen indicador de los datos reales. Cuanto menor sea el valor, mejor será el rendimiento del modelo. "
   ]
  },
  {
   "cell_type": "markdown",
   "id": "51891b63-a844-4a3c-90ee-cfe67478a5f5",
   "metadata": {},
   "source": [
    "\\begin{equation}\n",
    "\\min _{\\theta} \\frac{1}{N}\\sum_{i=1}^{N}\\left(y_{i}-\\hat{y}_i\\right)^{2}\n",
    "\\end{equation}"
   ]
  },
  {
   "cell_type": "code",
   "execution_count": null,
   "id": "35a9f187-36d5-4e27-8dd1-368ac2dd2460",
   "metadata": {},
   "outputs": [],
   "source": [
    "def compute_cost(X, y, theta):\n",
    "    m      = len(y)\n",
    "    errors = predict(X, theta) - y\n",
    "    return (1/(2*m)) * np.sum(errors**2)"
   ]
  },
  {
   "cell_type": "markdown",
   "id": "fdb90d68-ae3e-4bf0-bf1e-2f8e683af40c",
   "metadata": {},
   "source": [
    "### Implementación descenso de gradiente"
   ]
  },
  {
   "cell_type": "markdown",
   "id": "eecbd74a-10e1-41e9-824b-34180bbf3285",
   "metadata": {},
   "source": [
    "La regla de actualización para cada paso t es:"
   ]
  },
  {
   "cell_type": "markdown",
   "id": "7a81940e-97bd-4789-a1ed-9d8052b8f536",
   "metadata": {},
   "source": [
    "\\begin{align*}\n",
    "\\theta^{(t+1)} = \\theta^{(t)} - \\alpha \\frac{1}{m} X^\\top \\left( X \\theta^{(t)} - y \\right)\n",
    "\\end{align*}"
   ]
  },
  {
   "cell_type": "code",
   "execution_count": null,
   "id": "ddcf1ae6-071c-48a7-ad28-b7e8cf020d26",
   "metadata": {},
   "outputs": [],
   "source": [
    "def gradient_descent(X, y, alpha=0.1, iterations=5000):\n",
    "    m, n         = X.shape              # tupla (muestras, características)\n",
    "    theta        = np.zeros((n,1))      # inicializa vector de coeficientes theta con ceros, tamaño (n,1)\n",
    "    print(\"Dimensiones de theta:\", theta.shape) # Verificacion de sus dimensiones\n",
    "    cost_history = []\n",
    "    for _ in range(iterations):\n",
    "        errors = predict(X, theta) - y\n",
    "        grad   = (1/m) * X.T.dot(errors)   # calcula el gradiente del costo\n",
    "        theta  = theta - alpha * grad              # actualiza los coeficientes\n",
    "        cost_history.append(compute_cost(X, y, theta))\n",
    "    return theta, cost_history"
   ]
  },
  {
   "cell_type": "markdown",
   "id": "04ab0d6f-3c7d-4dca-a74f-b991cf60f51a",
   "metadata": {},
   "source": [
    "### Coeficiente de determinación $R^2$\n"
   ]
  },
  {
   "cell_type": "markdown",
   "id": "38d86e90-0d51-404c-a469-a099626d0aa1",
   "metadata": {},
   "source": [
    "Evalúa la calidad del ajuste del modelo comparándolo con un modelo básico que siempre predice la media de y"
   ]
  },
  {
   "cell_type": "code",
   "execution_count": null,
   "id": "a19fb585-bec2-426d-b4ae-c6203f84c37d",
   "metadata": {},
   "outputs": [],
   "source": [
    "def r_squared(y_true, y_pred):\n",
    "    ss_res = np.sum((y_true - y_pred)**2)\n",
    "    ss_tot = np.sum((y_true - np.mean(y_true))**2)\n",
    "    return 1 - ss_res/(ss_tot + 1e-10) # 1e-10 evita división por cero"
   ]
  }
 ],
 "metadata": {
  "kernelspec": {
   "display_name": "Python [conda env:base] *",
   "language": "python",
   "name": "conda-base-py"
  },
  "language_info": {
   "codemirror_mode": {
    "name": "ipython",
    "version": 3
   },
   "file_extension": ".py",
   "mimetype": "text/x-python",
   "name": "python",
   "nbconvert_exporter": "python",
   "pygments_lexer": "ipython3",
   "version": "3.12.7"
  }
 },
 "nbformat": 4,
 "nbformat_minor": 5
}
