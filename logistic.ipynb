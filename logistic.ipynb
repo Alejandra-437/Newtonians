{
 "cells": [
  {
   "cell_type": "markdown",
   "id": "93afa6a5",
   "metadata": {},
   "source": [
    "# Regresión logística multiclase"
   ]
  },
  {
   "cell_type": "markdown",
   "id": "19eb810a",
   "metadata": {},
   "source": [
    "La regresión logística es normalmente un modelo de clasificación binaria, es decir, distingue entre dos clases (por ejemplo: \"spam\" vs \"no spam\").\n",
    "Pero si se tienen más de dos clases (por ejemplo, clasificar entre 3 marcas de vehículos), se necesita adaptar el modelo. Aquí es donde entra el enfoque One-vs-Rest:\n",
    "\n",
    "*¿Cómo funciona One-vs-Rest?*\n",
    "Suponiendo que se tienen tres clases: A, B y C.\n",
    "Con One-vs-Rest vas a entrenar un clasificador binario por cada clase:\n",
    "* Clasificador 1: ¿Es A o no? (A vs B+C)\n",
    "* Clasificador 2: ¿Es B o no? (B vs A+C)\n",
    "* Clasificador 3: ¿Es C o no? (C vs A+B)\n",
    "Cada uno de estos clasificadores se entrena por separado usando regresión logística binaria. Luego, cuando se hace una predicción, cada uno da una probabilidad, y se elige la clase con la mayor probabilidad."
   ]
  },
  {
   "cell_type": "markdown",
   "id": "45a4a2cc",
   "metadata": {},
   "source": [
    "Inicialmente importaremos todas las librerias necesarias para la ejecución de nuestros procesos:"
   ]
  },
  {
   "cell_type": "code",
   "execution_count": 7,
   "id": "7f998a91",
   "metadata": {},
   "outputs": [],
   "source": [
    "import pandas as pd"
   ]
  },
  {
   "cell_type": "markdown",
   "id": "40017c1d",
   "metadata": {},
   "source": [
    "Ahora cargaremos los datasets que se utilizarán, estos estan en el siguiente orden de carpetas\n",
    "\n",
    "```bash\n",
    "|--datasources\n",
    "   |--laptops\n",
    "   |--parkinsons\n",
    "```"
   ]
  },
  {
   "cell_type": "code",
   "execution_count": 10,
   "id": "e4c59956",
   "metadata": {},
   "outputs": [],
   "source": [
    "laptops = pd.read_csv(\"./datasources/laptops/laptop_price.csv\")"
   ]
  }
 ],
 "metadata": {
  "kernelspec": {
   "display_name": "venv",
   "language": "python",
   "name": "python3"
  },
  "language_info": {
   "codemirror_mode": {
    "name": "ipython",
    "version": 3
   },
   "file_extension": ".py",
   "mimetype": "text/x-python",
   "name": "python",
   "nbconvert_exporter": "python",
   "pygments_lexer": "ipython3",
   "version": "3.13.3"
  }
 },
 "nbformat": 4,
 "nbformat_minor": 5
}
